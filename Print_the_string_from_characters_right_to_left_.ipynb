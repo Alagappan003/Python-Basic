{
  "nbformat": 4,
  "nbformat_minor": 0,
  "metadata": {
    "colab": {
      "name": "Print the string from characters right to left.",
      "provenance": [],
      "collapsed_sections": [],
      "authorship_tag": "ABX9TyN/UnYb+WXVMN5SrphnV7/M",
      "include_colab_link": true
    },
    "kernelspec": {
      "name": "python3",
      "display_name": "Python 3"
    },
    "language_info": {
      "name": "python"
    }
  },
  "cells": [
    {
      "cell_type": "markdown",
      "metadata": {
        "id": "view-in-github",
        "colab_type": "text"
      },
      "source": [
        "<a href=\"https://colab.research.google.com/github/Alagappan003/Python-Basics/blob/main/Print_the_string_from_characters_right_to_left_.ipynb\" target=\"_parent\"><img src=\"https://colab.research.google.com/assets/colab-badge.svg\" alt=\"Open In Colab\"/></a>"
      ]
    },
    {
      "cell_type": "code",
      "metadata": {
        "colab": {
          "base_uri": "https://localhost:8080/"
        },
        "id": "xFNFTjUO20LI",
        "outputId": "fe58349a-da2d-4ae7-d9bd-e01f1df7c674"
      },
      "source": [
        "\"\"\"\n",
        "right to left (reverse the string), so she wants you to design a suitable algorithm which satisfy her desire.\n",
        "\"\"\"\n",
        "\n",
        "a =input()\n",
        "b =a[::-1]\n",
        "print(b[0].upper()+b[1::])"
      ],
      "execution_count": 1,
      "outputs": [
        {
          "output_type": "stream",
          "name": "stdout",
          "text": [
            "jennyfer\n",
            "Refynnej\n"
          ]
        }
      ]
    }
  ]
}