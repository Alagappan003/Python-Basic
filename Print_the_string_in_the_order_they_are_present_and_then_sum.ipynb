{
  "nbformat": 4,
  "nbformat_minor": 0,
  "metadata": {
    "colab": {
      "name": "Print the string in the order they are present and then sum",
      "provenance": [],
      "authorship_tag": "ABX9TyO7ZwXLAKGCvf9USDmnPNl1",
      "include_colab_link": true
    },
    "kernelspec": {
      "name": "python3",
      "display_name": "Python 3"
    },
    "language_info": {
      "name": "python"
    }
  },
  "cells": [
    {
      "cell_type": "markdown",
      "metadata": {
        "id": "view-in-github",
        "colab_type": "text"
      },
      "source": [
        "<a href=\"https://colab.research.google.com/github/Alagappan003/Python-Basics/blob/main/Print_the_string_in_the_order_they_are_present_and_then_sum.ipynb\" target=\"_parent\"><img src=\"https://colab.research.google.com/assets/colab-badge.svg\" alt=\"Open In Colab\"/></a>"
      ]
    },
    {
      "cell_type": "code",
      "metadata": {
        "colab": {
          "base_uri": "https://localhost:8080/"
        },
        "id": "O8whLBWqxMCX",
        "outputId": "14a4c68c-ebee-4b97-e9aa-c10391f11f63"
      },
      "source": [
        "\"\"\"You are given a string ‘s’.Your task is to print the string in the order they are present and then sum of digits.\"\"\"\n",
        "\n",
        "a = input()\n",
        "count = 0\n",
        "st = \"\"\n",
        "for i in range(0,len(a)):\n",
        "    if a[i]== \"0\" or a[i]== \"1\" or a[i]== \"2\" or a[i]== \"3\" or a[i]== \"4\" or a[i]== \"5\" or a[i]== \"6\" or a[i]== \"7\" or a[i]== \"8\" or a[i]== \"9\":\n",
        "        b = int(a[i])\n",
        "        count = count+b\n",
        "    else:\n",
        "        st = st+a[i]\n",
        "stm = str(count)\n",
        "print(st+stm)"
      ],
      "execution_count": 1,
      "outputs": [
        {
          "output_type": "stream",
          "name": "stdout",
          "text": [
            "AC30BD40\n",
            "ACBD7\n"
          ]
        }
      ]
    }
  ]
}