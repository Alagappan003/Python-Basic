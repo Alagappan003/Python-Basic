{
  "nbformat": 4,
  "nbformat_minor": 0,
  "metadata": {
    "colab": {
      "name": "Alphabetically sorted set of strings",
      "provenance": [],
      "authorship_tag": "ABX9TyPTdNyxeqIcC1iAhHC4AgEG",
      "include_colab_link": true
    },
    "kernelspec": {
      "name": "python3",
      "display_name": "Python 3"
    },
    "language_info": {
      "name": "python"
    }
  },
  "cells": [
    {
      "cell_type": "markdown",
      "metadata": {
        "id": "view-in-github",
        "colab_type": "text"
      },
      "source": [
        "<a href=\"https://colab.research.google.com/github/Alagappan003/Python-Basics/blob/main/Alphabetically_sorted_set_of_strings.ipynb\" target=\"_parent\"><img src=\"https://colab.research.google.com/assets/colab-badge.svg\" alt=\"Open In Colab\"/></a>"
      ]
    },
    {
      "cell_type": "code",
      "metadata": {
        "colab": {
          "base_uri": "https://localhost:8080/"
        },
        "id": "smzhK1Kbqkmj",
        "outputId": "c0ea2ec6-6f68-40b7-aa0a-7f0162956c0d"
      },
      "source": [
        "\"\"\"Ria is a 5 year old girl. \n",
        "Her mother wants to teach her how to sort words in the same order that they appear in a dictionary. \n",
        "She decides to write a program to sort a given set of strings based on their alphabetical order. \n",
        "Help Ria’s mother to complete the program.\"\"\"\n",
        "\n",
        "k=int(input())\n",
        "a =input()\n",
        "\n",
        "b=a.split(\" \")\n",
        "b.sort()\n",
        "s=\"\"\n",
        "for i in range(k):\n",
        "    s = s+b[i]+\" \"\n",
        "print(s.strip())"
      ],
      "execution_count": 2,
      "outputs": [
        {
          "output_type": "stream",
          "name": "stdout",
          "text": [
            "3\n",
            "InfinityWar EndGame Avengers\n",
            "Avengers EndGame InfinityWar\n"
          ]
        }
      ]
    }
  ]
}