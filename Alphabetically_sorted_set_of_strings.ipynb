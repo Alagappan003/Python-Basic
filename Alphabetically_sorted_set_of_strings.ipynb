{
  "nbformat": 4,
  "nbformat_minor": 0,
  "metadata": {
    "colab": {
      "name": "Alphabetically sorted set of strings",
      "provenance": [],
      "collapsed_sections": [],
      "authorship_tag": "ABX9TyM7jaEW9wxXlFQih3z+Pcyh",
      "include_colab_link": true
    },
    "kernelspec": {
      "name": "python3",
      "display_name": "Python 3"
    },
    "language_info": {
      "name": "python"
    }
  },
  "cells": [
    {
      "cell_type": "markdown",
      "metadata": {
        "id": "view-in-github",
        "colab_type": "text"
      },
      "source": [
        "<a href=\"https://colab.research.google.com/github/Alagappan003/Python-Basics/blob/main/Alphabetically_sorted_set_of_strings.ipynb\" target=\"_parent\"><img src=\"https://colab.research.google.com/assets/colab-badge.svg\" alt=\"Open In Colab\"/></a>"
      ]
    },
    {
      "cell_type": "code",
      "metadata": {
        "colab": {
          "base_uri": "https://localhost:8080/"
        },
        "id": "pXWPeP5vqB68",
        "outputId": "da05185f-9350-4506-bb07-3e2f41b15c57"
      },
      "source": [
        "a = input()\n",
        "b = a.split(\" \")\n",
        "b.sort()\n",
        "c = \"\"\n",
        "for i in range(0, len(b)):\n",
        "  c = c+b[i]+\" \"\n",
        "print(c.strip())\n",
        "\n",
        "\n",
        "\n",
        "\n",
        "  "
      ],
      "execution_count": 6,
      "outputs": [
        {
          "output_type": "stream",
          "name": "stdout",
          "text": [
            "virat kohli\n",
            "kohli virat\n"
          ]
        }
      ]
    }
  ]
}