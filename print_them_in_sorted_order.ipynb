{
  "nbformat": 4,
  "nbformat_minor": 0,
  "metadata": {
    "colab": {
      "name": "print them in sorted order",
      "provenance": [],
      "authorship_tag": "ABX9TyOb6tswSP5Qo0voot8leT7F",
      "include_colab_link": true
    },
    "kernelspec": {
      "name": "python3",
      "display_name": "Python 3"
    },
    "language_info": {
      "name": "python"
    }
  },
  "cells": [
    {
      "cell_type": "markdown",
      "metadata": {
        "id": "view-in-github",
        "colab_type": "text"
      },
      "source": [
        "<a href=\"https://colab.research.google.com/github/Alagappan003/Python-Basics/blob/main/print_them_in_sorted_order.ipynb\" target=\"_parent\"><img src=\"https://colab.research.google.com/assets/colab-badge.svg\" alt=\"Open In Colab\"/></a>"
      ]
    },
    {
      "cell_type": "code",
      "metadata": {
        "colab": {
          "base_uri": "https://localhost:8080/"
        },
        "id": "WENZtMtgvKcO",
        "outputId": "8807752b-94a4-408b-84b2-ba69d1ab1146"
      },
      "source": [
        "\"\"\"You are given some words all in lower case letters your task is to print them in sorted order.\"\"\"\n",
        "\n",
        "a = input()\n",
        "b = a.split(\" \")\n",
        "b.sort()\n",
        "c = \"\"\n",
        "\n",
        "for i in range(0, len(b)):\n",
        "  c = c+b[i]+\" \"\n",
        "\n",
        "print(c.strip())"
      ],
      "execution_count": 1,
      "outputs": [
        {
          "output_type": "stream",
          "name": "stdout",
          "text": [
            "virat kohli\n",
            "kohli virat\n"
          ]
        }
      ]
    }
  ]
}