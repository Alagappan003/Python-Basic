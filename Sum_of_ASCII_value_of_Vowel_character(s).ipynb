{
  "nbformat": 4,
  "nbformat_minor": 0,
  "metadata": {
    "colab": {
      "name": "Sum of ASCII value of Vowel character(s)",
      "provenance": [],
      "collapsed_sections": [],
      "authorship_tag": "ABX9TyMlABjG9aGxCm2yqHAl3Ck1",
      "include_colab_link": true
    },
    "kernelspec": {
      "name": "python3",
      "display_name": "Python 3"
    },
    "language_info": {
      "name": "python"
    }
  },
  "cells": [
    {
      "cell_type": "markdown",
      "metadata": {
        "id": "view-in-github",
        "colab_type": "text"
      },
      "source": [
        "<a href=\"https://colab.research.google.com/github/Alagappan003/Python-Basics/blob/main/Sum_of_ASCII_value_of_Vowel_character(s).ipynb\" target=\"_parent\"><img src=\"https://colab.research.google.com/assets/colab-badge.svg\" alt=\"Open In Colab\"/></a>"
      ]
    },
    {
      "cell_type": "code",
      "metadata": {
        "colab": {
          "base_uri": "https://localhost:8080/"
        },
        "id": "Of3AiPS-19Lr",
        "outputId": "0dac68a6-289d-4605-b0ce-f5d2054f0baa"
      },
      "source": [
        "\"\"\"\n",
        "You are given a ‘true’ string. String is called true if weight of string is multiple of 8. \n",
        "Your task is to tell whether a string can be declared True or Not. \n",
        "Weight of string is the sum of ASCII value of Vowel character(s) present in the string.\n",
        "\"\"\"\n",
        "\n",
        "a =input()\n",
        "b = 0\n",
        "for i in a:\n",
        "    b=b+ord(i)\n",
        "if b%8==0:\n",
        "    print(1)\n",
        "else:\n",
        "    print(0)"
      ],
      "execution_count": 1,
      "outputs": [
        {
          "output_type": "stream",
          "name": "stdout",
          "text": [
            "raja\n",
            "0\n"
          ]
        }
      ]
    }
  ]
}