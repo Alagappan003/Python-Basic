{
  "nbformat": 4,
  "nbformat_minor": 0,
  "metadata": {
    "colab": {
      "name": "ASCII value of corresponding character",
      "provenance": [],
      "collapsed_sections": [],
      "authorship_tag": "ABX9TyP8xscy9os0XrzuJqmiDD9Y",
      "include_colab_link": true
    },
    "kernelspec": {
      "name": "python3",
      "display_name": "Python 3"
    },
    "language_info": {
      "name": "python"
    }
  },
  "cells": [
    {
      "cell_type": "markdown",
      "metadata": {
        "id": "view-in-github",
        "colab_type": "text"
      },
      "source": [
        "<a href=\"https://colab.research.google.com/github/Alagappan003/Python-Basics/blob/main/ASCII_value_of_corresponding_character.ipynb\" target=\"_parent\"><img src=\"https://colab.research.google.com/assets/colab-badge.svg\" alt=\"Open In Colab\"/></a>"
      ]
    },
    {
      "cell_type": "code",
      "metadata": {
        "colab": {
          "base_uri": "https://localhost:8080/"
        },
        "id": "gIaSROPq3QuM",
        "outputId": "1e568fc3-0295-4416-b068-044f00259767"
      },
      "source": [
        "\"\"\"\n",
        "Given a string 'S' print the sum of weight of the String. \n",
        "A weight of character is defined as the ASCII value of corresponding character.\n",
        "\"\"\"\n",
        "\n",
        "a =input()\n",
        "b =0\n",
        "for i in a:\n",
        "    b = b+(ord(i))\n",
        "print(b)"
      ],
      "execution_count": 1,
      "outputs": [
        {
          "output_type": "stream",
          "name": "stdout",
          "text": [
            "abc\n",
            "294\n"
          ]
        }
      ]
    }
  ]
}