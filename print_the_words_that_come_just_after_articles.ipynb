{
  "nbformat": 4,
  "nbformat_minor": 0,
  "metadata": {
    "colab": {
      "name": "print the words that come just after articles ",
      "provenance": [],
      "authorship_tag": "ABX9TyOMo7m3HyKuPmoh0Szl0PZC",
      "include_colab_link": true
    },
    "kernelspec": {
      "name": "python3",
      "display_name": "Python 3"
    },
    "language_info": {
      "name": "python"
    }
  },
  "cells": [
    {
      "cell_type": "markdown",
      "metadata": {
        "id": "view-in-github",
        "colab_type": "text"
      },
      "source": [
        "<a href=\"https://colab.research.google.com/github/Alagappan003/Python-Basics/blob/main/print_the_words_that_come_just_after_articles.ipynb\" target=\"_parent\"><img src=\"https://colab.research.google.com/assets/colab-badge.svg\" alt=\"Open In Colab\"/></a>"
      ]
    },
    {
      "cell_type": "code",
      "metadata": {
        "colab": {
          "base_uri": "https://localhost:8080/"
        },
        "id": "ZRXSUH8YrQQc",
        "outputId": "4e46f2fd-7428-49ff-8987-4b414e3b50ca"
      },
      "source": [
        "\"\"\"You are given a paragraph.Your task is to print the words that come just after articles.\"\"\"\n",
        "\n",
        "a = input()\n",
        "b = a.split(\" \")\n",
        "c=d=k = \"\"\n",
        "count = 0\n",
        "for i in range(0,len(b)-1):\n",
        "    k = b[i]\n",
        "    c = len(k)-1\n",
        "    #print(k[c-1])\n",
        "    if k[-1]== \"a\" or k[-1]== \"e\" or k[-1]== \"i\" or k[-1]== \"o\" or k[-1]==\"u\" or k[-1]== \"A\" or k[-1]== \"E\" or k[-1]== \"I\" or k[-1]== \"O\" or k[-1]==\"U\":\n",
        "          d = d+b[i+1]+\" \"\n",
        "\n",
        "print(d.strip(\" \"))     "
      ],
      "execution_count": 1,
      "outputs": [
        {
          "output_type": "stream",
          "name": "stdout",
          "text": [
            "The sun rises in the east\n",
            "sun east\n"
          ]
        }
      ]
    }
  ]
}