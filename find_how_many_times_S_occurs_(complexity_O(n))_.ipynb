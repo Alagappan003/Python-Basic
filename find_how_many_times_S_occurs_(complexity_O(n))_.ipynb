{
  "nbformat": 4,
  "nbformat_minor": 0,
  "metadata": {
    "colab": {
      "name": " find how many times S occurs (complexity O(n)).",
      "provenance": [],
      "authorship_tag": "ABX9TyNRcriI1W/8FSJDkt+KeyDO",
      "include_colab_link": true
    },
    "kernelspec": {
      "name": "python3",
      "display_name": "Python 3"
    },
    "language_info": {
      "name": "python"
    }
  },
  "cells": [
    {
      "cell_type": "markdown",
      "metadata": {
        "id": "view-in-github",
        "colab_type": "text"
      },
      "source": [
        "<a href=\"https://colab.research.google.com/github/Alagappan003/Python-Basics/blob/main/find_how_many_times_S_occurs_(complexity_O(n))_.ipynb\" target=\"_parent\"><img src=\"https://colab.research.google.com/assets/colab-badge.svg\" alt=\"Open In Colab\"/></a>"
      ]
    },
    {
      "cell_type": "code",
      "metadata": {
        "id": "CI5Nag1yui-6"
      },
      "source": [
        "\"\"\"Given a sentence and string S, find how many times S occurs in the given sentence.If S is not found in the sentence print -1\n",
        "Input Size : |sentence| <= 1000000(complexity O(n)).\"\"\"\n",
        "\n",
        "a = input()\n",
        "b = input()\n",
        "c = a.split(\" \")\n",
        "count=0\n",
        "for i in range(0,len(c)):\n",
        " if c[i]==b:\n",
        "        count=count+1\n",
        "         \n",
        "if count==0:\n",
        "    print(\"-1\")\n",
        "else:\n",
        "    print(count)"
      ],
      "execution_count": null,
      "outputs": []
    }
  ]
}