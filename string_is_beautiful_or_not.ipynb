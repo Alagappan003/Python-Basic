{
  "nbformat": 4,
  "nbformat_minor": 0,
  "metadata": {
    "colab": {
      "name": "string is beautiful or not",
      "provenance": [],
      "authorship_tag": "ABX9TyN6ryHEPtShai5+l/rZ3wU+",
      "include_colab_link": true
    },
    "kernelspec": {
      "name": "python3",
      "display_name": "Python 3"
    },
    "language_info": {
      "name": "python"
    }
  },
  "cells": [
    {
      "cell_type": "markdown",
      "metadata": {
        "id": "view-in-github",
        "colab_type": "text"
      },
      "source": [
        "<a href=\"https://colab.research.google.com/github/Alagappan003/Python-Basics/blob/main/string_is_beautiful_or_not.ipynb\" target=\"_parent\"><img src=\"https://colab.research.google.com/assets/colab-badge.svg\" alt=\"Open In Colab\"/></a>"
      ]
    },
    {
      "cell_type": "code",
      "metadata": {
        "colab": {
          "base_uri": "https://localhost:8080/"
        },
        "id": "e_ibQiC2sZ0H",
        "outputId": "1910b35a-f634-4502-dac7-2bb9851966c1"
      },
      "source": [
        "\"\"\"You are given a string ‘s’. \n",
        "Your task is to tell whether string is beautiful or not.\n",
        "A beautiful string is a string in which String starts with ‘a’ or ‘A’ and middle element is either ‘m’ or ‘M’ and last element is ‘z’or ‘Z’\"\"\"\n",
        "\n",
        "a = input()\n",
        "b = len(a)//2\n",
        "if len(a)%2==0:\n",
        "    print(\"0\")\n",
        "elif a[0]==\"A\" or a[0]==\"a\" and a[b]==\"M\" or a[b]==\"m\" and a[len(a)-1]==\"Z\" or a[len(a)-1]==\"Z\":\n",
        "    print(\"1\")\n",
        "else:\n",
        "    print(\"0\")"
      ],
      "execution_count": 1,
      "outputs": [
        {
          "output_type": "stream",
          "name": "stdout",
          "text": [
            "Amz\n",
            "1\n"
          ]
        }
      ]
    }
  ]
}