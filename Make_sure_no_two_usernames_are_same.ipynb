{
  "nbformat": 4,
  "nbformat_minor": 0,
  "metadata": {
    "colab": {
      "name": "Make sure no two usernames are same",
      "provenance": [],
      "authorship_tag": "ABX9TyOEEPMeWv2JASB/aXSz1zin",
      "include_colab_link": true
    },
    "kernelspec": {
      "name": "python3",
      "display_name": "Python 3"
    },
    "language_info": {
      "name": "python"
    }
  },
  "cells": [
    {
      "cell_type": "markdown",
      "metadata": {
        "id": "view-in-github",
        "colab_type": "text"
      },
      "source": [
        "<a href=\"https://colab.research.google.com/github/Alagappan003/Python-Basics/blob/main/Make_sure_no_two_usernames_are_same.ipynb\" target=\"_parent\"><img src=\"https://colab.research.google.com/assets/colab-badge.svg\" alt=\"Open In Colab\"/></a>"
      ]
    },
    {
      "cell_type": "code",
      "metadata": {
        "colab": {
          "base_uri": "https://localhost:8080/"
        },
        "id": "_sDUSuAqwkuM",
        "outputId": "3c00d38b-cd95-43a6-9671-2ed222083392"
      },
      "source": [
        "\"\"\"Guvi developed a new system to make sure no two usernames are same. So, they hired you as a developer to develop this system. \n",
        "They have set some rules to do the same.\n",
        "If you see the same username that already exists, just add a number at the end of that username ,else print \"Verified\".\"\"\"\n",
        "\n",
        "a = int(input())\n",
        "b = input()\n",
        "c = b.split()\n",
        "d = b.split()\n",
        "m = \"\"\n",
        "count = 0\n",
        "for i in range(0,len(c)):\n",
        "    for j in range(0,len(c)):\n",
        "        if i!=j:\n",
        "            if c[i]==c[j]:\n",
        "                count=count+1\n",
        "                st = str(count)\n",
        "                c[j] = c[j]+st\n",
        "        \n",
        "\n",
        "for l in range(0,len(c)):\n",
        "   q = str(c[l])\n",
        "   p = len(q)\n",
        "   if q[p-1] ==\"1\" or q[p-1] ==\"2\" or q[p-1] ==\"3\" or q[p-1] ==\"4\" or q[p-1] ==\"5\" or q[p-1] ==\"6\" or q[p-1] ==\"7\" or q[p-1] ==\"8\" or q[p-1] ==\"9\":\n",
        "       c[l] = c[l]\n",
        "   else:\n",
        "       c[l]=\"Verified\"\n",
        "       \n",
        "     \n",
        "for k in range(0,len(c)):\n",
        "    m=m+c[k]+\" \"\n",
        "print(m.strip())"
      ],
      "execution_count": 1,
      "outputs": [
        {
          "output_type": "stream",
          "name": "stdout",
          "text": [
            "4\n",
            "abc aab abc aba\n",
            "Verified Verified abc1 Verified\n"
          ]
        }
      ]
    }
  ]
}