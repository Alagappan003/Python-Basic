{
  "nbformat": 4,
  "nbformat_minor": 0,
  "metadata": {
    "colab": {
      "name": "string in alternate lowercase and uppercase",
      "provenance": [],
      "collapsed_sections": [],
      "authorship_tag": "ABX9TyOT186xIxeTD59W9pgGuBrj",
      "include_colab_link": true
    },
    "kernelspec": {
      "name": "python3",
      "display_name": "Python 3"
    },
    "language_info": {
      "name": "python"
    }
  },
  "cells": [
    {
      "cell_type": "markdown",
      "metadata": {
        "id": "view-in-github",
        "colab_type": "text"
      },
      "source": [
        "<a href=\"https://colab.research.google.com/github/Alagappan003/Python-Basics/blob/main/string_in_alternate_lowercase_and_uppercase.ipynb\" target=\"_parent\"><img src=\"https://colab.research.google.com/assets/colab-badge.svg\" alt=\"Open In Colab\"/></a>"
      ]
    },
    {
      "cell_type": "code",
      "metadata": {
        "colab": {
          "base_uri": "https://localhost:8080/"
        },
        "id": "6RiIUxtpuExY",
        "outputId": "d6df99b6-c081-4059-a938-423b81c63ae8"
      },
      "source": [
        "\"\"\" You are given a string ‘s’.Your task is to print the string in alternate lowercase and uppercase order.\"\"\"\n",
        "\n",
        "a = input()\n",
        "b = a.split(\" \")\n",
        "c =d=e= \"\"\n",
        "for i in range(0,len(b)):\n",
        "    if i%2==0:\n",
        "        d = b[i].upper()\n",
        "        c=c+d+\" \"\n",
        "    else:\n",
        "        e = b[i].lower()\n",
        "        c=c+e+\" \"\n",
        "print(c.strip())"
      ],
      "execution_count": 1,
      "outputs": [
        {
          "output_type": "stream",
          "name": "stdout",
          "text": [
            "abcd efgh ijkl\n",
            "ABCD efgh IJKL\n"
          ]
        }
      ]
    }
  ]
}