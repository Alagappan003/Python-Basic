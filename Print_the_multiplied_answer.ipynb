{
  "nbformat": 4,
  "nbformat_minor": 0,
  "metadata": {
    "colab": {
      "name": "Print the multiplied answer",
      "provenance": [],
      "authorship_tag": "ABX9TyPRhqsflZE2/JUhdOX7wThv",
      "include_colab_link": true
    },
    "kernelspec": {
      "name": "python3",
      "display_name": "Python 3"
    },
    "language_info": {
      "name": "python"
    }
  },
  "cells": [
    {
      "cell_type": "markdown",
      "metadata": {
        "id": "view-in-github",
        "colab_type": "text"
      },
      "source": [
        "<a href=\"https://colab.research.google.com/github/Alagappan003/Python-Basics/blob/main/Print_the_multiplied_answer.ipynb\" target=\"_parent\"><img src=\"https://colab.research.google.com/assets/colab-badge.svg\" alt=\"Open In Colab\"/></a>"
      ]
    },
    {
      "cell_type": "code",
      "metadata": {
        "colab": {
          "base_uri": "https://localhost:8080/"
        },
        "id": "btvhkFHkp1Zy",
        "outputId": "994764d4-1aa5-49eb-9a71-7a8f0de4c310"
      },
      "source": [
        "\"\"\"You are given two numbers. Your task is to multiply the two numbers and print the answer.\"\"\"\n",
        "\n",
        "a = (input())\n",
        "b=a.split(\" \")\n",
        "c = int(b[0])*int(b[1])\n",
        "print(c)"
      ],
      "execution_count": 2,
      "outputs": [
        {
          "output_type": "stream",
          "name": "stdout",
          "text": [
            "99999 99998\n",
            "9999700002\n"
          ]
        }
      ]
    }
  ]
}