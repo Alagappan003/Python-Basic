{
  "nbformat": 4,
  "nbformat_minor": 0,
  "metadata": {
    "colab": {
      "name": "Print the largest number",
      "provenance": [],
      "authorship_tag": "ABX9TyMDGjXYJdWsWfRQzZUbeZ5E",
      "include_colab_link": true
    },
    "kernelspec": {
      "name": "python3",
      "display_name": "Python 3"
    },
    "language_info": {
      "name": "python"
    }
  },
  "cells": [
    {
      "cell_type": "markdown",
      "metadata": {
        "id": "view-in-github",
        "colab_type": "text"
      },
      "source": [
        "<a href=\"https://colab.research.google.com/github/Alagappan003/Python-Basics/blob/main/Print_the_largest_number.ipynb\" target=\"_parent\"><img src=\"https://colab.research.google.com/assets/colab-badge.svg\" alt=\"Open In Colab\"/></a>"
      ]
    },
    {
      "cell_type": "code",
      "metadata": {
        "colab": {
          "base_uri": "https://localhost:8080/"
        },
        "id": "ImhfgjUJrxvF",
        "outputId": "b9f3c723-2df1-4f52-9687-a48577d22b63"
      },
      "source": [
        "\"\"\"You are given with a string which comprises of some numbers. \n",
        "Your task is to find the largest integer by converting the string to the corresponding integer.\"\"\"\n",
        "\n",
        "a = input()\n",
        "b = \"\"\n",
        "k=temp=0\n",
        "count=alpha=0\n",
        "for i in range(0,len(a)):\n",
        "    if a[i]!=\".\":\n",
        "        b= b+a[i]\n",
        "\n",
        "c =b.split(\" \")\n",
        "for i in range(0,len(c)):\n",
        "    ma = c[i]\n",
        "    if ma[0]==\"0\" or ma[0]==\"1\" or ma[0]==\"2\" or ma[0]==\"3\" or ma[0]==\"4\" or ma[0]==\"5\" or ma[0]==\"6\" or ma[0]==\"7\" or ma[0]==\"8\" or ma[0]==\"9\":\n",
        "        alpha =int(ma)\n",
        "\n",
        "        if k<alpha:\n",
        "            temp=alpha\n",
        "            k=temp\n",
        "\n",
        "print(temp)"
      ],
      "execution_count": 2,
      "outputs": [
        {
          "output_type": "stream",
          "name": "stdout",
          "text": [
            "I was born on 12 october 1998.\n",
            "1998\n"
          ]
        }
      ]
    }
  ]
}