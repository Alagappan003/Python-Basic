{
  "nbformat": 4,
  "nbformat_minor": 0,
  "metadata": {
    "colab": {
      "name": "Print 1 for balanced and 0 for imbalanced",
      "provenance": [],
      "collapsed_sections": [],
      "authorship_tag": "ABX9TyPnF1E91orMN7SsFBiTiHPO",
      "include_colab_link": true
    },
    "kernelspec": {
      "name": "python3",
      "display_name": "Python 3"
    },
    "language_info": {
      "name": "python"
    }
  },
  "cells": [
    {
      "cell_type": "markdown",
      "metadata": {
        "id": "view-in-github",
        "colab_type": "text"
      },
      "source": [
        "<a href=\"https://colab.research.google.com/github/Alagappan003/Python-Basics/blob/main/Print_1_for_balanced_and_0_for_imbalanced.ipynb\" target=\"_parent\"><img src=\"https://colab.research.google.com/assets/colab-badge.svg\" alt=\"Open In Colab\"/></a>"
      ]
    },
    {
      "cell_type": "code",
      "metadata": {
        "colab": {
          "base_uri": "https://localhost:8080/"
        },
        "id": "1PnBWK0P0LkT",
        "outputId": "cf1749e6-291a-494c-858a-80737cc09ee5"
      },
      "source": [
        "\"\"\"\n",
        "you are given a string made up of parenthesis only.Your task is to check whether parenthesis are balanced or not.\n",
        "If they are balanced print 1 else print 0\n",
        "\"\"\"\n",
        "\n",
        "a = input()\n",
        "co=cou=coun=0\n",
        "length = len(a)\n",
        "for i in range(0,length):\n",
        "    if(a[i]==\"{\"):\n",
        "        co=co+1\n",
        "    elif(a[i]==\"}\"):\n",
        "        co=co-1\n",
        "    \n",
        "for i in range(0,length):\n",
        "    if(a[i]==\"[\"):\n",
        "        cou=cou+1\n",
        "    elif(a[i]==\"]\"):\n",
        "        cou=cou-1\n",
        "        \n",
        "for i in range(0,length):    \n",
        "    if(a[i]==\"(\"):\n",
        "        coun=coun+1\n",
        "    elif(a[i]==\")\"):\n",
        "        coun=coun-1\n",
        "        \n",
        "if co == 0 and cou == 0 and coun == 0:\n",
        "    print(1)\n",
        "else:\n",
        "    print(0)"
      ],
      "execution_count": 1,
      "outputs": [
        {
          "output_type": "stream",
          "name": "stdout",
          "text": [
            "{({})}\n",
            "1\n"
          ]
        }
      ]
    }
  ]
}