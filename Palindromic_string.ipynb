{
  "nbformat": 4,
  "nbformat_minor": 0,
  "metadata": {
    "colab": {
      "name": "Palindromic string",
      "provenance": [],
      "authorship_tag": "ABX9TyNsuw+zBb2yDDc/pBdr9Umy",
      "include_colab_link": true
    },
    "kernelspec": {
      "name": "python3",
      "display_name": "Python 3"
    },
    "language_info": {
      "name": "python"
    }
  },
  "cells": [
    {
      "cell_type": "markdown",
      "metadata": {
        "id": "view-in-github",
        "colab_type": "text"
      },
      "source": [
        "<a href=\"https://colab.research.google.com/github/Alagappan003/Python-Basics/blob/main/Palindromic_string.ipynb\" target=\"_parent\"><img src=\"https://colab.research.google.com/assets/colab-badge.svg\" alt=\"Open In Colab\"/></a>"
      ]
    },
    {
      "cell_type": "code",
      "metadata": {
        "colab": {
          "base_uri": "https://localhost:8080/"
        },
        "id": "1C2l8CbRE1v6",
        "outputId": "b38d7c5f-6b90-4527-a89b-2226a8be38e2"
      },
      "source": [
        "\"\"\" Radha newly learnt about palindromic strings.\n",
        "A palindromic string is a string which is same when read from left to right and also from right to left.Help her in implementing the logic.\"\"\"\n",
        "\n",
        "a = input()\n",
        "b = a[::-1]\n",
        "if a==b:\n",
        "    print(\"1\")\n",
        "else:\n",
        "    print(\"0\")"
      ],
      "execution_count": 3,
      "outputs": [
        {
          "output_type": "stream",
          "name": "stdout",
          "text": [
            "NITIN\n",
            "1\n"
          ]
        }
      ]
    }
  ]
}