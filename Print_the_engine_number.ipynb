{
  "nbformat": 4,
  "nbformat_minor": 0,
  "metadata": {
    "colab": {
      "name": "Print the engine number",
      "provenance": [],
      "authorship_tag": "ABX9TyN2jnlGP0oHwVgSc2Mj5kIP",
      "include_colab_link": true
    },
    "kernelspec": {
      "name": "python3",
      "display_name": "Python 3"
    },
    "language_info": {
      "name": "python"
    }
  },
  "cells": [
    {
      "cell_type": "markdown",
      "metadata": {
        "id": "view-in-github",
        "colab_type": "text"
      },
      "source": [
        "<a href=\"https://colab.research.google.com/github/Alagappan003/Python-Basics/blob/main/Print_the_engine_number.ipynb\" target=\"_parent\"><img src=\"https://colab.research.google.com/assets/colab-badge.svg\" alt=\"Open In Colab\"/></a>"
      ]
    },
    {
      "cell_type": "code",
      "metadata": {
        "colab": {
          "base_uri": "https://localhost:8080/"
        },
        "id": "XP7lry8M0-7A",
        "outputId": "c6501e9f-4ec9-49c6-fd97-17eeb306a0e7"
      },
      "source": [
        "\"\"\"\n",
        "In XYZ country there is rule that car’s engine no. depends upon car’ number plate. \n",
        "Engine no is sum of all the integers present on car’s Number plate.\n",
        "The issuing authority has hired you in order to provide engine no to the cars.\n",
        "Your task is to develop an algorithm which takes input as in form of string(Number plate) and gives back\n",
        "\"\"\"\n",
        "\n",
        "a = input()\n",
        "length = len(a)\n",
        "b=0\n",
        "count=0\n",
        "for i in range(0,length):\n",
        "    if a[i]==\"1\" or a[i]==\"2\" or a[i]==\"3\" or a[i]==\"4\" or a[i]==\"5\" or a[i]==\"6\" or a[i]==\"7\" or a[i]==\"8\" or a[i]==\"9\":\n",
        "        b =b+int(a[i])\n",
        "print(b)"
      ],
      "execution_count": 1,
      "outputs": [
        {
          "output_type": "stream",
          "name": "stdout",
          "text": [
            "HR05-AA-2669\n",
            "28\n"
          ]
        }
      ]
    }
  ]
}