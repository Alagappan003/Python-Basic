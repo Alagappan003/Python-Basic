{
  "nbformat": 4,
  "nbformat_minor": 0,
  "metadata": {
    "colab": {
      "name": "Print only consonants",
      "provenance": [],
      "collapsed_sections": [],
      "authorship_tag": "ABX9TyPdWlDCXGavMFPjzYWLcSwQ",
      "include_colab_link": true
    },
    "kernelspec": {
      "name": "python3",
      "display_name": "Python 3"
    },
    "language_info": {
      "name": "python"
    }
  },
  "cells": [
    {
      "cell_type": "markdown",
      "metadata": {
        "id": "view-in-github",
        "colab_type": "text"
      },
      "source": [
        "<a href=\"https://colab.research.google.com/github/Alagappan003/Python-Basics/blob/main/Print_only_consonants.ipynb\" target=\"_parent\"><img src=\"https://colab.research.google.com/assets/colab-badge.svg\" alt=\"Open In Colab\"/></a>"
      ]
    },
    {
      "cell_type": "code",
      "metadata": {
        "colab": {
          "base_uri": "https://localhost:8080/"
        },
        "id": "6iwwYpUyzTF-",
        "outputId": "0f7d16dc-464e-4ec4-80d1-99762c374308"
      },
      "source": [
        "\"\"\"\n",
        "You are given a string.Your task is to print only the consonants present in the string without affecting the sentence spacings if present. \n",
        "If no consonants are present print -1\"\"\"\n",
        "\n",
        "a = input()\n",
        "b=len(a)\n",
        "c=d=\"\"\n",
        "for i in range(0,b):\n",
        "    if a[i]==\"a\" or a[i]==\"e\" or a[i]==\"i\" or a[i]==\"o\" or a[i]==\"u\" or a[i]==\"A\" or a[i]==\"E\" or a[i]==\"I\" or a[i]==\"O\" or a[i]==\"U\":\n",
        "        c = c+a[i]\n",
        "    else:\n",
        "        d = d+a[i]\n",
        "print(d)"
      ],
      "execution_count": 2,
      "outputs": [
        {
          "output_type": "stream",
          "name": "stdout",
          "text": [
            "I am shrey\n",
            " m shry\n"
          ]
        }
      ]
    }
  ]
}